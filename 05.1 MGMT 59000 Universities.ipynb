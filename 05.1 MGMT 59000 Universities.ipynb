{
 "cells": [
  {
   "cell_type": "markdown",
   "metadata": {
    "id": "qiYkNFAUttoV"
   },
   "source": [
    "# BeautifulSoup - Scrape US Universities offering Analytics Program\n",
    "\n",
    "You may find US universities offering Analytics Program from this webpage. \n",
    "http://www.mastersindatascience.org/specialties/business-analytics/\n",
    "\n",
    "We will try to extract the university names."
   ]
  },
  {
   "cell_type": "markdown",
   "metadata": {
    "id": "-OqZgIzCttoY"
   },
   "source": [
    "We use two packages -\n",
    "\n",
    "- ```urllib```: for making http requests.\n",
    "- ```bs4``` (beautifulsoup4): for parsing the content of the page."
   ]
  },
  {
   "cell_type": "code",
   "execution_count": 1,
   "metadata": {
    "id": "9WMsjrB0ttoZ"
   },
   "outputs": [],
   "source": [
    "from bs4 import BeautifulSoup\n",
    "import urllib.request, urllib.error, urllib.parse"
   ]
  },
  {
   "cell_type": "code",
   "execution_count": 2,
   "metadata": {
    "id": "LqUDDktzttob"
   },
   "outputs": [],
   "source": [
    "#get page\n",
    "source = urllib.request.urlopen(\"http://www.mastersindatascience.org/specialties/business-analytics/\").read()"
   ]
  },
  {
   "cell_type": "code",
   "execution_count": 3,
   "metadata": {
    "id": "i6jh6Cazttoc",
    "outputId": "a7f58314-010b-4ce6-a5ed-340fb9b33594"
   },
   "outputs": [],
   "source": [
    "import requests\n",
    "import random"
   ]
  },
  {
   "cell_type": "code",
   "execution_count": 4,
   "metadata": {
    "id": "USY2r4AJttod"
   },
   "outputs": [],
   "source": [
    "import requests\n",
    "import random\n",
    "\n",
    "headers_list = [\n",
    "    {\n",
    "        \"User-Agent\": \"Mozilla/5.0 (Macintosh; Intel Mac OS X 10_15_7) AppleWebKit/537.36 (KHTML, like Gecko) Chrome/116.0.0.0 Safari/537.36\",\n",
    "        \"Accept\": \"text/html,application/xhtml+xml,application/xml;q=0.9,image/webp,*/*;q=0.8\",\n",
    "        \"Accept-Language\": \"en-US,en;q=0.5\",\n",
    "        \"Referer\": \"https://www.google.com/\",\n",
    "        \"DNT\": \"1\",\n",
    "        \"Connection\": \"keep-alive\",\n",
    "        \"Upgrade-Insecure-Requests\": \"1\"\n",
    "    },\n",
    "    {\n",
    "        \"User-Agent\": \"Mozilla/5.0 (Windows NT 10.0; Win64; x64) AppleWebKit/537.36 (KHTML, like Gecko) Chrome/111.0.0.0 Safari/537.36\",\n",
    "        \"Accept\": \"text/html,application/xhtml+xml,application/xml;q=0.9,image/webp,*/*;q=0.8\",\n",
    "        \"Accept-Language\": \"en-US,en;q=0.5\",\n",
    "        \"Accept-Encoding\": \"gzip, deflate, br\",\n",
    "        \"Referer\": \"https://www.google.com/\",\n",
    "        \"DNT\": \"1\",\n",
    "        \"Connection\": \"keep-alive\",\n",
    "        \"Upgrade-Insecure-Requests\": \"1\"\n",
    "    },\n",
    "    {\n",
    "        \"Connection\": \"keep-alive\",\n",
    "        \"DNT\": \"1\",\n",
    "        \"Upgrade-Insecure-Requests\": \"1\",\n",
    "        \"User-Agent\": \"Mozilla/5.0 (Windows NT 10.0; Win64; x64) AppleWebKit/537.36 (KHTML, like Gecko) Chrome/112.0.0.0 Safari/537.36\",\n",
    "        \"Accept\": \"text/html,application/xhtml+xml,application/xml;q=0.9,image/webp,image/apng,*/*;q=0.8,application/signed-exchange;v=b3;q=0.9\",\n",
    "        \"Sec-Fetch-Site\": \"none\",\n",
    "        \"Sec-Fetch-Mode\": \"navigate\",\n",
    "        \"Sec-Fetch-Dest\": \"document\",\n",
    "        \"Referer\": \"https://www.google.com/\",\n",
    "        \"Accept-Encoding\": \"gzip, deflate, br\",\n",
    "        \"Accept-Language\": \"en-GB,en-US;q=0.9,en;q=0.8\"\n",
    "    }, \n",
    "    {\n",
    "        \"Connection\": \"keep-alive\",\n",
    "        \"Upgrade-Insecure-Requests\": \"1\",\n",
    "        \"User-Agent\": \"Mozilla/5.0 (Macintosh; Intel Mac OS X 10.15; rv:109.0) Gecko/20100101 Firefox/114.0\",\n",
    "        \"Accept\": \"text/html,application/xhtml+xml,application/xml;q=0.9,image/webp,image/apng,*/*;q=0.8,application/signed-exchange;v=b3;q=0.9\",\n",
    "        \"Sec-Fetch-Site\": \"same-origin\",\n",
    "        \"Sec-Fetch-Mode\": \"navigate\",\n",
    "        \"Sec-Fetch-User\": \"?1\",\n",
    "        \"Sec-Fetch-Dest\": \"document\",\n",
    "        \"Referer\": \"https://www.google.com/\",\n",
    "        \"Accept-Encoding\": \"gzip, deflate, br\",\n",
    "        \"Accept-Language\": \"en-US,en;q=0.9\"\n",
    "    }\n",
    "]\n"
   ]
  },
  {
   "cell_type": "code",
   "execution_count": 5,
   "metadata": {
    "id": "LamH1Ah5ttoe"
   },
   "outputs": [],
   "source": [
    "headers = random.choice(headers_list)\n",
    "r = requests.Session()\n",
    "r.headers = headers\n",
    "html = r.get('http://www.mastersindatascience.org/specialties/business-analytics/').text"
   ]
  },
  {
   "cell_type": "code",
   "execution_count": null,
   "metadata": {
    "id": "iRFK_U4rttoe",
    "outputId": "4e2990e8-c3a6-421b-975a-05d783b0b189"
   },
   "outputs": [],
   "source": [
    "html"
   ]
  },
  {
   "cell_type": "code",
   "execution_count": 7,
   "metadata": {
    "id": "uJh-hcO9ttoe"
   },
   "outputs": [],
   "source": [
    "#BeautifulSoup takes a string object and parse out the document structure\n",
    "# and turn it into a BeautifulSoup object.\n",
    "soup = BeautifulSoup(html, \"html.parser\")"
   ]
  },
  {
   "cell_type": "markdown",
   "metadata": {
    "id": "ZmYecf3Tttof"
   },
   "source": [
    "Now you should navigate to http://www.mastersindatascience.org/specialties/business-analytics/ using Chrome browser.\n",
    "\n",
    "Right click on a url, choose  \"inspect element\" to inspect HTML source.\n",
    "\n",
    "How can we accurately locate them?"
   ]
  },
  {
   "cell_type": "code",
   "execution_count": 8,
   "metadata": {
    "id": "Q94OAHJfttof",
    "outputId": "78231b05-0fa9-427d-a4e8-83bb11aea1d1"
   },
   "outputs": [
    {
     "name": "stdout",
     "output_type": "stream",
     "text": [
      "\n",
      "\t\t\t\t\t\tSyracuse University\n",
      "\t\t\t\t\t\n",
      "\n",
      "\t\t\t\t\t\tPepperdine University\n",
      "\t\t\t\t\t\n",
      "\n",
      "\t\t\t\t\t\tHarvard University\n",
      "\t\t\t\t\t\n",
      "\n",
      "\t\t\t\t\t\tUniversity of Dayton\n",
      "\t\t\t\t\t\n",
      "\n",
      "\t\t\t\t\t\t\t\tSyracuse University\t\t\t\t\t\t\t\n",
      "\n",
      "\t\t\t\t\t\t\t\tPepperdine University\t\t\t\t\t\t\t\n",
      "\n",
      "\t\t\t\t\t\t\t\tHarvard University\t\t\t\t\t\t\t\n",
      "\n",
      "\t\t\t\t\t\t\t\tUniversity of Dayton\t\t\t\t\t\t\t\n",
      "\n",
      "\t\t\t\t\t\t\t\tColumbia University\t\t\t\t\t\t\t\n",
      "\n",
      "\t\t\t\t\t\t\t\tCalifornia State University at East Bay\t\t\t\t\t\t\t\n",
      "\n",
      "\t\t\t\t\t\t\t\tClark University\t\t\t\t\t\t\t\n",
      "\n",
      "\t\t\t\t\t\t\t\tCollege of William & Mary\t\t\t\t\t\t\t\n",
      "\n",
      "\t\t\t\t\t\t\t\tCarnegie Mellon University\t\t\t\t\t\t\t\n",
      "\n",
      "\t\t\t\t\t\t\t\tDrexel University\t\t\t\t\t\t\t\n",
      "\n",
      "\t\t\t\t\t\t\t\tGeorgetown University\t\t\t\t\t\t\t\n",
      "\n",
      "\t\t\t\t\t\t\t\tUniversity of Notre Dame\t\t\t\t\t\t\t\n",
      "\n",
      "\t\t\t\t\t\t\t\tIowa State University\t\t\t\t\t\t\t\n",
      "\n",
      "\t\t\t\t\t\t\t\tMontclair State University\t\t\t\t\t\t\t\n",
      "\n",
      "\t\t\t\t\t\t\t\tNortheastern University\t\t\t\t\t\t\t\n",
      "\n",
      "\t\t\t\t\t\t\t\tUniversity of Montana\t\t\t\t\t\t\t\n",
      "\n",
      "\t\t\t\t\t\t\t\tQuinnipiac University\t\t\t\t\t\t\t\n",
      "\n",
      "\t\t\t\t\t\t\t\tPennsylvania State University\t\t\t\t\t\t\t\n",
      "\n",
      "\t\t\t\t\t\t\t\tRochester Institute of Technology\t\t\t\t\t\t\t\n",
      "\n",
      "\t\t\t\t\t\t\t\tRensselaer Polytechnic Institute\t\t\t\t\t\t\t\n",
      "\n",
      "\t\t\t\t\t\t\t\tRutgers University\t\t\t\t\t\t\t\n",
      "\n",
      "\t\t\t\t\t\t\t\tSaint Joseph's University\t\t\t\t\t\t\t\n",
      "\n",
      "\t\t\t\t\t\t\t\tSeattle University\t\t\t\t\t\t\t\n",
      "\n",
      "\t\t\t\t\t\t\t\tSeton Hall University\t\t\t\t\t\t\t\n",
      "\n",
      "\t\t\t\t\t\t\t\tSt. Bonaventure University\t\t\t\t\t\t\t\n",
      "\n",
      "\t\t\t\t\t\t\t\tTexas A&M University\t\t\t\t\t\t\t\n",
      "\n",
      "\t\t\t\t\t\t\t\tUniversity of Colorado\t\t\t\t\t\t\t\n",
      "\n",
      "\t\t\t\t\t\t\t\tUniversity of Houston-Downtown\t\t\t\t\t\t\t\n",
      "\n",
      "\t\t\t\t\t\t\t\tUniversity of Nevada, Reno\t\t\t\t\t\t\t\n",
      "\n",
      "\t\t\t\t\t\t\t\tUniversity of Pittsburgh\t\t\t\t\t\t\t\n",
      "\n",
      "\t\t\t\t\t\t\t\tUniversity of Scranton\t\t\t\t\t\t\t\n",
      "\n",
      "\t\t\t\t\t\t\t\tUniversity of Texas at Dallas\t\t\t\t\t\t\t\n",
      "\n",
      "\t\t\t\t\t\t\t\tUniversity of Utah\t\t\t\t\t\t\t\n",
      "\n",
      "\t\t\t\t\t\t\t\tWest Virginia University\t\t\t\t\t\t\t\n",
      "\n",
      "\t\t\t\t\t\t\t\tFairfield University\t\t\t\t\t\t\t\n",
      "\n",
      "\t\t\t\t\t\t\t\tProvidence College\t\t\t\t\t\t\t\n",
      "\n",
      "\t\t\t\t\t\t\t\tUniversity of Washington, Tacoma\t\t\t\t\t\t\t\n",
      "\n",
      "\t\t\t\t\t\t\t\tWorcester Polytechnic Institute\t\t\t\t\t\t\t\n",
      "\n",
      "\t\t\t\t\t\t\t\tAdelphi University\t\t\t\t\t\t\t\n",
      "\n",
      "\t\t\t\t\t\t\t\tGeorge Washington University\t\t\t\t\t\t\t\n",
      "\n",
      "\t\t\t\t\t\t\t\tBabson College\t\t\t\t\t\t\t\n",
      "\n",
      "\t\t\t\t\t\t\t\tBrandeis University\t\t\t\t\t\t\t\n",
      "\n",
      "\t\t\t\t\t\t\t\tLasalle University\t\t\t\t\t\t\t\n",
      "\n",
      "\t\t\t\t\t\t\t\tLoyola University Chicago\t\t\t\t\t\t\t\n",
      "\n",
      "\t\t\t\t\t\t\t\tUniversity of Iowa\t\t\t\t\t\t\t\n",
      "\n",
      "\t\t\t\t\t\t\t\tMiami University\t\t\t\t\t\t\t\n",
      "\n",
      "\t\t\t\t\t\t\t\tSacred Heart University\t\t\t\t\t\t\t\n",
      "\n",
      "\t\t\t\t\t\t\t\tSouthern Utah University\t\t\t\t\t\t\t\n",
      "\n",
      "\t\t\t\t\t\t\t\tUniversity at Buffalo, SUNY\t\t\t\t\t\t\t\n",
      "\n",
      "\t\t\t\t\t\t\t\tUniversity of California, Irvine\t\t\t\t\t\t\t\n",
      "\n",
      "\t\t\t\t\t\t\t\tUniversity of California San Diego\t\t\t\t\t\t\t\n",
      "\n",
      "\t\t\t\t\t\t\t\tUniversity of Georgia\t\t\t\t\t\t\t\n",
      "\n",
      "\t\t\t\t\t\t\t\tUniversity of Louisville\t\t\t\t\t\t\t\n",
      "\n",
      "\t\t\t\t\t\t\t\tUniversity of Michigan – Dearborn\t\t\t\t\t\t\t\n",
      "\n",
      "\t\t\t\t\t\t\t\tThe University of Texas at Arlington\t\t\t\t\t\t\t\n",
      "\n",
      "\t\t\t\t\t\t\t\tUniversity of Washington\t\t\t\t\t\t\t\n"
     ]
    }
   ],
   "source": [
    "# From the inspecting of the elements we can see that all the university names are embeddes in <h3 class = \"schoolname\">\n",
    "# we use find_all to find all the names which has a class of \"schoolname\"\n",
    "for university in soup.find_all('h2',class_='twoyou-programs--university-name'):\n",
    "    print(university.string)\n",
    "    #prints out the string value (name of the university)"
   ]
  },
  {
   "cell_type": "markdown",
   "metadata": {
    "id": "ai8bU0wkttof"
   },
   "source": [
    "Now, suppose we want to know the city and the states these universities are located"
   ]
  },
  {
   "cell_type": "code",
   "execution_count": 9,
   "metadata": {
    "id": "P4rLLME5ttof",
    "outputId": "56fdd2cf-d6f8-4057-ab37-f3bccb7d68b7"
   },
   "outputs": [
    {
     "name": "stdout",
     "output_type": "stream",
     "text": [
      "\n",
      "\t\t\t\t\t\t\t\tSyracuse, New York\t\t\t\t\t\t\t\n",
      "\n",
      "\t\t\t\t\t\t\t\tMalibu, California\t\t\t\t\t\t\t\n",
      "\n",
      "\t\t\t\t\t\t\t\tCambridge, Massachusetts\t\t\t\t\t\t\t\n",
      "\n",
      "\t\t\t\t\t\t\t\tDayton, Ohio\t\t\t\t\t\t\t\n",
      "\n",
      "\t\t\t\t\t\t\t\tNew York, New York \t\t\t\t\t\t\t\n",
      "\n",
      "\t\t\t\t\t\t\t\tHayward, California\t\t\t\t\t\t\t\n",
      "\n",
      "\t\t\t\t\t\t\t\tWorcester, Massachusetts\t\t\t\t\t\t\t\n",
      "\n",
      "\t\t\t\t\t\t\t\tWilliamsburg, Virginia\t\t\t\t\t\t\t\n",
      "\n",
      "\t\t\t\t\t\t\t\tPittsburgh, Pennsylvania\t\t\t\t\t\t\t\n",
      "\n",
      "\t\t\t\t\t\t\t\tPhiladelphia, Pennsylvania\t\t\t\t\t\t\t\n",
      "\n",
      "\t\t\t\t\t\t\t\tWashington, D.C.\t\t\t\t\t\t\t\n",
      "\n",
      "\t\t\t\t\t\t\t\tNotre Dame, Indiana\t\t\t\t\t\t\t\n",
      "\n",
      "\t\t\t\t\t\t\t\tAmes, Iowa\t\t\t\t\t\t\t\n",
      "\n",
      "\t\t\t\t\t\t\t\tMontclair, New Jersey\t\t\t\t\t\t\t\n",
      "\n",
      "\t\t\t\t\t\t\t\tBoston, Massachusetts\t\t\t\t\t\t\t\n",
      "\n",
      "\t\t\t\t\t\t\t\tMissoula, Montana\t\t\t\t\t\t\t\n",
      "\n",
      "\t\t\t\t\t\t\t\tHamden, Connecticut\t\t\t\t\t\t\t\n",
      "\n",
      "\t\t\t\t\t\t\t\tState College, Pennsylvania\t\t\t\t\t\t\t\n",
      "\n",
      "\t\t\t\t\t\t\t\tRochester, New York\t\t\t\t\t\t\t\n",
      "\n",
      "\t\t\t\t\t\t\t\tTroy, New York\t\t\t\t\t\t\t\n",
      "\n",
      "\t\t\t\t\t\t\t\tPiscataway, New Jersey\t\t\t\t\t\t\t\n",
      "\n",
      "\t\t\t\t\t\t\t\tPhiladelphia, Pennsylvania\t\t\t\t\t\t\t\n",
      "\n",
      "\t\t\t\t\t\t\t\tSeattle, Washington\t\t\t\t\t\t\t\n",
      "\n",
      "\t\t\t\t\t\t\t\tSouth Orange, New Jersey\t\t\t\t\t\t\t\n",
      "\n",
      "\t\t\t\t\t\t\t\tSt. Bonaventure, New York\t\t\t\t\t\t\t\n",
      "\n",
      "\t\t\t\t\t\t\t\tCollege Station, Texas\t\t\t\t\t\t\t\n",
      "\n",
      "\t\t\t\t\t\t\t\tDenver, Colorado\t\t\t\t\t\t\t\n",
      "\n",
      "\t\t\t\t\t\t\t\tHouston, Texas\t\t\t\t\t\t\t\n",
      "\n",
      "\t\t\t\t\t\t\t\tReno, Nevada \t\t\t\t\t\t\t\n",
      "\n",
      "\t\t\t\t\t\t\t\tPittsburgh, Pennsylvania\t\t\t\t\t\t\t\n",
      "\n",
      "\t\t\t\t\t\t\t\tScranton, Pennsylvania\t\t\t\t\t\t\t\n",
      "\n",
      "\t\t\t\t\t\t\t\tDallas, Texas\t\t\t\t\t\t\t\n",
      "\n",
      "\t\t\t\t\t\t\t\tSalt Lake City, Utah\t\t\t\t\t\t\t\n",
      "\n",
      "\t\t\t\t\t\t\t\tMorgantown, West Virginia \t\t\t\t\t\t\t\n",
      "\n",
      "\t\t\t\t\t\t\t\tFairfield, Connecticut\t\t\t\t\t\t\t\n",
      "\n",
      "\t\t\t\t\t\t\t\tProvidence, Rhode Island \t\t\t\t\t\t\t\n",
      "\n",
      "\t\t\t\t\t\t\t\tTacoma, Washington\t\t\t\t\t\t\t\n",
      "\n",
      "\t\t\t\t\t\t\t\tWorcester, Massachusetts\t\t\t\t\t\t\t\n",
      "\n",
      "\t\t\t\t\t\t\t\tGarden City, New York\t\t\t\t\t\t\t\n",
      "\n",
      "\t\t\t\t\t\t\t\tWashington, D.C.\t\t\t\t\t\t\t\n",
      "\n",
      "\t\t\t\t\t\t\t\tWellesley, Massachusetts\t\t\t\t\t\t\t\n",
      "\n",
      "\t\t\t\t\t\t\t\tWaltham, Massachusetts\t\t\t\t\t\t\t\n",
      "\n",
      "\t\t\t\t\t\t\t\tPhiladelphia, Pennsylvania\t\t\t\t\t\t\t\n",
      "\n",
      "\t\t\t\t\t\t\t\tChicago, Illinois\t\t\t\t\t\t\t\n",
      "\n",
      "\t\t\t\t\t\t\t\tIowa City, Iowa\t\t\t\t\t\t\t\n",
      "\n",
      "\t\t\t\t\t\t\t\tOxford, Ohio\t\t\t\t\t\t\t\n",
      "\n",
      "\t\t\t\t\t\t\t\tFairfield, Connecticut\t\t\t\t\t\t\t\n",
      "\n",
      "\t\t\t\t\t\t\t\tCedar City, Utah \t\t\t\t\t\t\t\n",
      "\n",
      "\t\t\t\t\t\t\t\tBuffalo, New York\t\t\t\t\t\t\t\n",
      "\n",
      "\t\t\t\t\t\t\t\tIrvine, California \t\t\t\t\t\t\t\n",
      "\n",
      "\t\t\t\t\t\t\t\tSan Diego, California \t\t\t\t\t\t\t\n",
      "\n",
      "\t\t\t\t\t\t\t\tAthens, Georgia\t\t\t\t\t\t\t\n",
      "\n",
      "\t\t\t\t\t\t\t\tLouisville, Kentucky\t\t\t\t\t\t\t\n",
      "\n",
      "\t\t\t\t\t\t\t\tDearborn, Michigan\t\t\t\t\t\t\t\n",
      "\n",
      "\t\t\t\t\t\t\t\tArlington, Texas\t\t\t\t\t\t\t\n",
      "\n",
      "\t\t\t\t\t\t\t\tSeattle, Washington\t\t\t\t\t\t\t\n"
     ]
    }
   ],
   "source": [
    "#We can inspect the website and see that the city and the states are in the <div class = 'citystate'> tab\n",
    "\n",
    "for city_state in soup.find_all('h3', class_ = \"twoyou-programs--location\"):\n",
    "    print(city_state.string)\n"
   ]
  },
  {
   "cell_type": "code",
   "execution_count": null,
   "metadata": {},
   "outputs": [],
   "source": []
  },
  {
   "cell_type": "code",
   "execution_count": null,
   "metadata": {},
   "outputs": [],
   "source": []
  }
 ],
 "metadata": {
  "colab": {
   "collapsed_sections": [],
   "name": "05.1 MGTA 414 Universities.ipynb",
   "provenance": []
  },
  "kernelspec": {
   "display_name": "Python 3 (ipykernel)",
   "language": "python",
   "name": "python3"
  },
  "language_info": {
   "codemirror_mode": {
    "name": "ipython",
    "version": 3
   },
   "file_extension": ".py",
   "mimetype": "text/x-python",
   "name": "python",
   "nbconvert_exporter": "python",
   "pygments_lexer": "ipython3",
   "version": "3.11.4"
  }
 },
 "nbformat": 4,
 "nbformat_minor": 4
}
