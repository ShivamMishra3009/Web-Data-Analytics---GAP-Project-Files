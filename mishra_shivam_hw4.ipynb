{
 "cells": [
  {
   "cell_type": "code",
   "execution_count": 1,
   "id": "e875784e",
   "metadata": {},
   "outputs": [],
   "source": [
    "#Answer1"
   ]
  },
  {
   "cell_type": "code",
   "execution_count": 2,
   "id": "f29c34d5",
   "metadata": {},
   "outputs": [],
   "source": [
    "import urllib.request"
   ]
  },
  {
   "cell_type": "code",
   "execution_count": 3,
   "id": "fed62c97",
   "metadata": {},
   "outputs": [],
   "source": [
    "import requests\n",
    "import random\n",
    "import numpy as np\n",
    "import time\n",
    "\n",
    "headers_list = [\n",
    "    # Firefox 92 Mac\n",
    "    {\n",
    "        \"User-Agent\": \"Mozilla/5.0 (Macintosh; Intel Mac OS X 10.15; rv:92.0) Gecko/20100101 Firefox/92.0\",\n",
    "        \"Accept\": \"text/html,application/xhtml+xml,application/xml;q=0.9,image/webp,*/*;q=0.8\",\n",
    "        \"Accept-Language\": \"en-US,en;q=0.5\",\n",
    "        \"Referer\": \"https://www.google.com/\",\n",
    "        \"DNT\": \"1\",\n",
    "        \"Connection\": \"keep-alive\",\n",
    "        \"Upgrade-Insecure-Requests\": \"1\"\n",
    "    },\n",
    "    # Chrome 96.0 Win10\n",
    "    {\n",
    "        \"User-Agent\": \"Mozilla/5.0 (Windows NT 10.0; Win64; x64) AppleWebKit/537.36 (KHTML, like Gecko) Chrome/96.0.4664.45 Safari/537.36\",\n",
    "        \"Accept\": \"text/html,application/xhtml+xml,application/xml;q=0.9,image/webp,*/*;q=0.8\",\n",
    "        \"Accept-Language\": \"en-US,en;q=0.5\",\n",
    "        \"Accept-Encoding\": \"gzip, deflate, br\",\n",
    "        \"Referer\": \"https://www.google.com/\",\n",
    "        \"DNT\": \"1\",\n",
    "        \"Connection\": \"keep-alive\",\n",
    "        \"Upgrade-Insecure-Requests\": \"1\"\n",
    "    },\n",
    "    # Chrome 95.0 Win10\n",
    "    {\n",
    "        \"Connection\": \"keep-alive\",\n",
    "        \"DNT\": \"1\",\n",
    "        \"Upgrade-Insecure-Requests\": \"1\",\n",
    "        \"User-Agent\": \"Mozilla/5.0 (Windows NT 10.0; Win64; x64) AppleWebKit/537.36 (KHTML, like Gecko) Chrome/95.0.4638.54 Safari/537.36\",\n",
    "        \"Accept\": \"text/html,application/xhtml+xml,application/xml;q=0.9,image/webp,image/apng,*/*;q=0.8,application/signed-exchange;v=b3;q=0.9\",\n",
    "        \"Sec-Fetch-Site\": \"none\",\n",
    "        \"Sec-Fetch-Mode\": \"navigate\",\n",
    "        \"Sec-Fetch-Dest\": \"document\",\n",
    "        \"Referer\": \"https://www.google.com/\",\n",
    "        \"Accept-Encoding\": \"gzip, deflate, br\",\n",
    "        \"Accept-Language\": \"en-GB,en-US;q=0.9,en;q=0.8\"\n",
    "    },\n",
    "    # Firefox 95.0 Win10\n",
    "    {\n",
    "        \"Connection\": \"keep-alive\",\n",
    "        \"Upgrade-Insecure-Requests\": \"1\",\n",
    "        \"User-Agent\": \"Mozilla/5.0 (Windows NT 10.0; Win64; x64; rv:95.0) Gecko/20100101 Firefox/95.0\",\n",
    "        \"Accept\": \"text/html,application/xhtml+xml,application/xml;q=0.9,image/webp,image/apng,*/*;q=0.8,application/signed-exchange;v=b3;q=0.9\",\n",
    "        \"Sec-Fetch-Site\": \"same-origin\",\n",
    "        \"Sec-Fetch-Mode\": \"navigate\",\n",
    "        \"Sec-Fetch-User\": \"?1\",\n",
    "        \"Sec-Fetch-Dest\": \"document\",\n",
    "        \"Referer\": \"https://www.google.com/\",\n",
    "        \"Accept-Encoding\": \"gzip, deflate, br\",\n",
    "        \"Accept-Language\": \"en-US,en;q=0.9\"\n",
    "    }\n",
    "]"
   ]
  },
  {
   "cell_type": "code",
   "execution_count": 4,
   "id": "28fc4499",
   "metadata": {
    "scrolled": true
   },
   "outputs": [
    {
     "name": "stdout",
     "output_type": "stream",
     "text": [
      "['Anonymous', 'Elaine', 'RegisterFamily']\n",
      "['I absolutely love my brand new IPhone 14ProMax.  I also loved the sweet sales lady who went  far and beyond help.  I’m 60 years old and Lizzy from Port Arthur TX  Best Buy .  I’m so happy with my purchase', 'It’s perfect. It arrived perfect on the scheduled date. Very easy to set up. I particularly love Apple and only use their products!', 'Bought it to replace my 12 pro max that was broken and it was a hassle to transfer the sim.  This phone uses ESIM and my 12 pro max had a physical SIM so the data transfer was impossible to complete without assistance.  It took a couple hours to get it activated even with assistance from Verizon staff.  The phone is beautiful though and it really doesn’t feel or work much different than my iPhone 12.  What I am really impressed by is the fact that I was able to purchase this phone with such ease through Best Buy when Verizon made it a nightmare to purchase from them even though I’m already a customer.  I will always go through Best Buy from now own to purchase my electronics.']\n"
     ]
    }
   ],
   "source": [
    "url ='https://www.bestbuy.com/site/apple-iphone-14-pro-max-128gb-deep-purple-verizon/6487406.p?skuId=6487406'\n",
    "headers = random.choice(headers_list)\n",
    "r = requests.Session()\n",
    "r.headers = headers\n",
    "html = r.get(url).text\n",
    "\n",
    "reviewer = []\n",
    "review = []\n",
    "\n",
    "\n",
    "while html.find('li class=\\\"review-item-simple\\\" tabindex=\\\"-1')!=-1:\n",
    "      \n",
    "    reviewer_index = html.find('<div class=\\\"ugc-author \\\">')\n",
    "    html2 = html[reviewer_index+25:]\n",
    "    end = html2.find('<')\n",
    "    reviewer.append(html2[:end])\n",
    "    html2=html2[end:]\n",
    "\n",
    "    review_index = html2.find('class=\"pre-white-space\"')\n",
    "    remaining = html2[review_index:]\n",
    "    start = remaining.find(\">\")\n",
    "    end = remaining.find(\"<\")\n",
    "    review.append(remaining[start+1:end])\n",
    "    \n",
    "    html = remaining[end:]\n",
    "\n",
    "print(reviewer)\n",
    "print(review)"
   ]
  },
  {
   "cell_type": "code",
   "execution_count": 5,
   "id": "3cfce44e",
   "metadata": {},
   "outputs": [
    {
     "data": {
      "text/plain": [
       "['Apple - iPhone 14 Pro Max 128GB - Deep Purple (Verizon)',\n",
       " 'Apple - iPhone 14 Pro Max 128GB - Deep Purple (Verizon)',\n",
       " 'Apple - iPhone 14 Pro Max 128GB - Deep Purple (Verizon)']"
      ]
     },
     "execution_count": 5,
     "metadata": {},
     "output_type": "execute_result"
    }
   ],
   "source": [
    "prod_index = html.find('<h1 class=\"heading-5 v-fw-regular\"')\n",
    "html2 = html[prod_index+1:]\n",
    "start = html2.find('>')\n",
    "end = html2.find('<')\n",
    "prod_name = html2[start+1:end]\n",
    "product_name = [prod_name for i in range(len(reviewer))]\n",
    "product_name"
   ]
  },
  {
   "cell_type": "code",
   "execution_count": 6,
   "id": "8ca9350e",
   "metadata": {},
   "outputs": [],
   "source": [
    "import csv\n",
    "   \n",
    "file_name = \"Shivam_Apple\"+\".csv\"\n",
    "\n",
    "    \n",
    "rows = zip(product_name, reviewer, review)\n",
    "\n",
    "  \n",
    "with open(file_name, mode='w', newline='') as file:\n",
    "       \n",
    "    writer = csv.writer(file)\n",
    "\n",
    "        # Write the header row (optional)\n",
    "    header = [\"Product name\", \"Reviewer name\", \"Review\" ]\n",
    "    writer.writerow(header)\n",
    "\n",
    "        # Write the data rows\n",
    "    writer.writerows(rows)"
   ]
  },
  {
   "cell_type": "code",
   "execution_count": 7,
   "id": "c4f81280",
   "metadata": {},
   "outputs": [],
   "source": [
    "#Answer 2"
   ]
  },
  {
   "cell_type": "code",
   "execution_count": 8,
   "id": "1a6a1591",
   "metadata": {},
   "outputs": [
    {
     "name": "stdout",
     "output_type": "stream",
     "text": [
      "['CatLady4', 'EthanZ', 'SiamI']\n",
      "[\"Got the Samsung Galaxy S23 Ultra as a late birthday gift and because my old Galaxy S10+ was obsolete apparently.  I was hoping for the lime green but ended up with the lavender which is beautiful also. The phone is much more technical compared to the S10+ so Im having to really relearn using a smart phone. I have to figure this one out quickly since my 82 yr young mom has gotten the same phone so I could help her with setting it up and using all great options on the phone. She wont have many apps whereas I will have around 30. Its a bit much but im up for the challenge.  The photos are fantastic and when I took a picture of the full moon (Strawberry Moon) it actually looked like the moon & not just a white light. Sound quality is great for my games & tik-tok.  I like that the phone knows when a spam call is coming in and tells me so i dont pick it up. I used to pick up those calls & it made me crazy. The battery life is awesome.  I can fully charge it and not have to worry about recharging it for most the day. At night if i go to bed & i have 70% when i get up its pretty much right there without me having to charge it over night. It remembers my ear buds so when i put them in my ears theyre automatically connected.  Only issue ive had with the ear buds is sometimes people say it sounds like im talking in a tunnel far away & then i must switch to speaker to be heard properly. Thephone is a good size much larger than my old S10+  though i found very limited protective covers for it at Best Buy. Most products in store were for apple and online not much either. You cant use non- Samsung products for the back covers due to the camera lenses.  All the ones i tried would block a lens partially and i sure didnt want to damage the phone at the pric÷i paide $ 1100. Ive noticed even with the cover i have i still have a problem with it slipping from my hands. Their just isnt much out there yet at Best Buy for this model phone to put it in a wallet type cover w strap so you cant drop it. The cord needed to charge it was very confusing when i asked for help in store. Turns out the same cord you used for your S10+, S20's, S22's ALL have the same USB C cord required to charge so no need to get new ones unless your old ones are damaged. Had i been told that I couldve saved a lt of cash & worry. Now the Ultra has a pen to use for writing on phone like messages or notes. I have not tried this yet so cant say anything. I was hoping to figure out how to use the pento take photos so yo didnt have to hold the phone. Will figure that out later. The phone does have Bixby like all Samsung flagship phones do & it recognizes voices to respond to questions,take selfies, play music, set alarm, ect... Now somehowmy Mainecoon 6yr old male cat has figured out how to get the phone to take selfies whenthe phone had fallen to the floor. He was chatting away & finally i looked and found the phone in front of him. There he was 10 pictures of him one after another of him looking at phone & talking. This phone is AMAZING!!The cat approves of it.  I suggest you go out and get this one cause its lots of fun and I havent even begun to figure out all that it can do.\", \"The Samsung Galaxy S23 Ultra is a phone that aims to be the ultimate device for power users, photographers, and stylus fans. It has a stunning 6.8-inch Dynamic AMOLED display with a variable refresh rate that can go as low as 1Hz to save battery or as high as 120Hz for smooth scrolling and gaming. The screen also supports the S Pen, which is sold separately or bundled with some cases, and offers a great way to take notes, draw, or control the phone with gestures.\\n\\nThe Galaxy S23 Ultra is powered by the Snapdragon 8 Gen 2 chip made for Galaxy, which is a custom version of Qualcomm's flagship processor that delivers impressive performance and graphics. The phone also has up to 12GB of RAM and up to 1TB of internal storage, making it a powerhouse for multitasking and media consumption.\\n\\nBut the main attraction of the Galaxy S23 Ultra is its camera system, which features a whopping 200MP main sensor that can capture incredible detail and dynamic range. The phone also has two 10MP telephoto lenses that offer 3x and 10x optical zoom, respectively, and a 12MP ultra-wide lens that can shoot macro shots as well. The front-facing camera is also upgraded to 12MP and can record 4K video at 60fps.\\n\\nThe Galaxy S23 Ultra's cameras are capable of shooting stunning photos and videos in various modes and scenarios, such as portrait, night, pro, super slow-mo, director's view, and more. The phone also supports 8K video recording at 24fps or 30fps, and can extract high-resolution stills from the footage. The camera app is easy to use and offers a lot of options and features to enhance your creativity.\\n\\nThe Galaxy S23 Ultra has a massive 5,000mAh battery that can easily last a full day of heavy use, and supports fast wired and wireless charging, as well as reverse wireless charging to power up other devices. The phone also has stereo speakers, an in-display fingerprint scanner, NFC, IP68 water and dust resistance, and Samsung DeX support. The phone runs Android 13 with One UI 5.1 on top, which is one of the best Android skins out there. It offers a lot of customization options, useful features, and a sleek interface.\\n\\nThe Galaxy S23 Ultra is not a perfect phone, however. It is very expensive, starting at $1,199.99⁵⁶⁷⁹ for the base model with 256GB of storage and 8GB of RAM. It is also very big and heavy, which might make it uncomfortable to hold or carry for some people. The curved screen can also cause accidental touches or reflections at the edges. And while the phone supports fast charging, it does not improve on the charging speed of its predecessor⁶.\\n\\nOverall, the Galaxy S23 Ultra is an amazing phone that offers everything you could want from a flagship device in 2023. It has a gorgeous display, powerful performance, excellent cameras, long battery life, and S Pen support. It is definitely overkill for most people, but if you are looking for the best of the best on Android, you won't be disappointed with the Galaxy S23 Ultra.\", 'Here is a possible review on Samsung galaxy 23 ultra:\\n\\nThe Samsung galaxy 23 ultra is a stunning smartphone that offers a lot of features and performance for its premium price. It has a 6.8-inch edge QHD+ Dynamic AMOLED 2X display that is bright, colorful and adaptive to the content you are watching. It also supports HDR10+ and has a peak brightness of 1750 nitsAd12. The display also has a built-in S Pen that lets you write, draw and control your phone with ease and precisionAd13.\\n\\nThe camera system on the galaxy 23 ultra is impressive, with a 200MP wide-angle camera that can capture stunning details and zoom up to 100xAd1. It also has a 12MP ultra-wide camera, a 10MP telephoto camera with 3x optical zoom and another 10MP telephoto camera with 10x optical zoomAd1. The selfie camera is 12MP and can take great portraits even in low light2. The galaxy 23 ultra can record 8K videos at 30fps and has various modes and features to enhance your creativityAd1.\\n\\nThe galaxy 23 ultra is powered by the Snapdragon® 8 Gen 2 Mobile Platform for Galaxy Octa-Core processor that delivers fast and smooth performance for multitasking, gaming and streamingAd1. It also has a large battery of 5000mAh that can last up to 26 hours of video playbackAd1. The phone supports wireless charging and reverse wireless charging, as well as fast charging with a compatible chargerAd1. The phone also has a water-resistant design with an IP68 rating3.\\n\\nThe galaxy 23 ultra comes in various colors and storage options, ranging from 256GB to 1TBAd1. It also supports 5G connectivity and has a fingerprint sensor under the display for securityAd1. The phone runs on Android 13 with Samsung’s One UI interface that offers a lot of customization and features2.\\n\\nThe Samsung galaxy 23 ultra is not for everyone, as it is quite expensive and bulky. It also does not have a headphone jack or expandable storage24. However, if you are looking for a powerful and versatile smartphone that can do almost anything you want, the galaxy 23 ultra is a great choice.']\n"
     ]
    }
   ],
   "source": [
    "url ='https://www.bestbuy.com/site/samsung-galaxy-s23-ultra-256gb-unlocked-green/6529721.p?skuId=6529721'\n",
    "headers = random.choice(headers_list)\n",
    "r = requests.Session()\n",
    "r.headers = headers\n",
    "html = r.get(url).text\n",
    "\n",
    "reviewer_2 = []\n",
    "review_2 = []\n",
    "\n",
    "\n",
    "while html.find('li class=\\\"review-item-simple\\\" tabindex=\\\"-1')!=-1:\n",
    "      \n",
    "    reviewer_index = html.find('<div class=\\\"ugc-author \\\">')\n",
    "    html2 = html[reviewer_index+25:]\n",
    "    end = html2.find('<')\n",
    "    reviewer_2.append(html2[:end])\n",
    "    html2=html2[end:]\n",
    "\n",
    "    review_index = html2.find('class=\"pre-white-space\"')\n",
    "    remaining = html2[review_index:]\n",
    "    start = remaining.find(\">\")\n",
    "    end = remaining.find(\"<\")\n",
    "    review_2.append(remaining[start+1:end])\n",
    "    \n",
    "    html = remaining[end:]\n",
    "\n",
    "print(reviewer_2)\n",
    "print(review_2)"
   ]
  },
  {
   "cell_type": "code",
   "execution_count": 9,
   "id": "e6b80f86",
   "metadata": {},
   "outputs": [
    {
     "data": {
      "text/plain": [
       "['Samsung - Galaxy S23 Ultra 256GB (Unlocked) - Green',\n",
       " 'Samsung - Galaxy S23 Ultra 256GB (Unlocked) - Green',\n",
       " 'Samsung - Galaxy S23 Ultra 256GB (Unlocked) - Green']"
      ]
     },
     "execution_count": 9,
     "metadata": {},
     "output_type": "execute_result"
    }
   ],
   "source": [
    "prod_index = html.find('<h1 class=\"heading-5 v-fw-regular\"')\n",
    "html2 = html[prod_index+1:]\n",
    "start = html2.find('>')\n",
    "end = html2.find('<')\n",
    "prod_name_2 = html2[start+1:end]\n",
    "product_name_2 = [prod_name_2 for i in range(len(reviewer_2))]\n",
    "product_name_2"
   ]
  },
  {
   "cell_type": "code",
   "execution_count": 10,
   "id": "b762239e",
   "metadata": {},
   "outputs": [],
   "source": [
    "import csv\n",
    "    # naming files\n",
    "file_name = \"Shivam_Samsung\"+\".csv\"\n",
    "\n",
    "    # Combine the lists\n",
    "rows = zip(product_name_2, reviewer_2, review_2)\n",
    "\n",
    "    # opening and writing in file\n",
    "with open(file_name, mode='w', newline='', encoding='utf-8') as file:\n",
    "        # Create a CSV writer object\n",
    "    writer = csv.writer(file)\n",
    "\n",
    "        # Write the header row (optional)\n",
    "    header = [\"Product name\", \"Reviewer name\", \"Review\" ]\n",
    "    writer.writerow(header)\n",
    "\n",
    "        # Write the data rows\n",
    "    writer.writerows(rows)"
   ]
  },
  {
   "cell_type": "code",
   "execution_count": null,
   "id": "d4b72452",
   "metadata": {},
   "outputs": [],
   "source": []
  }
 ],
 "metadata": {
  "kernelspec": {
   "display_name": "Python 3 (ipykernel)",
   "language": "python",
   "name": "python3"
  },
  "language_info": {
   "codemirror_mode": {
    "name": "ipython",
    "version": 3
   },
   "file_extension": ".py",
   "mimetype": "text/x-python",
   "name": "python",
   "nbconvert_exporter": "python",
   "pygments_lexer": "ipython3",
   "version": "3.11.4"
  }
 },
 "nbformat": 4,
 "nbformat_minor": 5
}
